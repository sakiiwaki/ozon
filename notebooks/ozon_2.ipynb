{
 "cells": [
  {
   "cell_type": "code",
   "execution_count": null,
   "id": "8eb31b7c-60d9-4ab7-b721-4c7e37b79db2",
   "metadata": {},
   "outputs": [],
   "source": [
    "import numpy as np\n",
    "import pandas as pd\n",
    "import matplotlib.pyplot as plt\n",
    "import statsmodels.api as sm\n",
    "import datetime\n",
    "import seaborn as sns\n",
    "\n",
    "import os\n",
    "for dirname, _, filenames in os.walk('../data/'):\n",
    "    for filename in filenames:\n",
    "        print(os.path.join(dirname, filename))"
   ]
  },
  {
   "cell_type": "code",
   "execution_count": null,
   "id": "c24b6ef6-e994-4114-827e-b92232f296ff",
   "metadata": {},
   "outputs": [],
   "source": [
    "train_df = pd.read_table('../data/train.tsv', index_col='Date', parse_dates=True)\n",
    "test_df = pd.read_table('../data/test.tsv', index_col='Date', parse_dates=True)\n",
    "sample_sub = pd.read_csv('../data/sample_submit.csv')\n",
    "\n",
    "# set type label\n",
    "train_df['type'] = 'train'\n",
    "test_df['type'] = 'test'\n",
    "\n",
    "# all data\n",
    "all_df = pd.concat([train_df, test_df], axis=0)"
   ]
  },
  {
   "cell_type": "markdown",
   "id": "0aad5c3d-d96a-40f1-85d0-ea6b608575a8",
   "metadata": {},
   "source": [
    "## 学習する特徴量を作成\n",
    "#### __欠損値処理__\n",
    "→なし\n",
    "\n",
    "#### __特徴量の削除/追加__\n",
    "ピアソン相関から、  \n",
    "[削除]  \n",
    "- 時間ごとの気温\"T0\"~\"T23\"を消す\n",
    "- 時間ごとの風速\"WSR0\"~\"WSR24\"を消す\n",
    "- 海面気圧の前日からの変化\"SLP_\"を消す  \n",
    "\n",
    "[追加]\n",
    "- 風速の標準偏差を追加する(最大風速よりも平均風速の方が相関が高いため)\n",
    "- 気温の標準偏差を追加する(とりあえず追加)\n",
    "  \n",
    "計26個\n",
    "\n",
    "#### __データ変換__\n",
    "→とりあえず全部標準化"
   ]
  },
  {
   "cell_type": "code",
   "execution_count": null,
   "id": "308334c6-5d7e-4bf0-b7c3-b1d0c72582b7",
   "metadata": {},
   "outputs": [],
   "source": [
    "import re\n",
    "\n",
    "def eda(all_df):\n",
    "    # データの追加,気温・風速の標準偏差\n",
    "    #1時間ごとの気温・風速を取得\n",
    "    T_data = [s for s in all_df if re.match('T[0-9]', s) or re.match('T[1-2][0-9]', s)]\n",
    "    WSR_data = [s for s in all_df if re.match('WSR[0-9]', s) or re.match('WSR[1-2][0-9]', s)]\n",
    "    print(T_data.std(axis=1))\n",
    "    #行ごとの標準偏差を追加\n",
    "    all_df['T_SD'] = T_data.std(axis=1)\n",
    "    all_df['WSR_SD'] = WSR_data.std(axis=1)\n",
    "    # データの削除,T0~T23, WSR0~WSR23\n",
    "    all_df = [s for s in all_df if not re.match('(T|WSR)[0-9]', s) or re.match('(T|WSR)[1-2][0-9]', s)]\n",
    "    # データの削除,SLP_\n",
    "    all_df = all_df.drop(columns=['SLP_'])\n",
    "    \n",
    "    # データ変換（標準化）\n",
    "    scaler = StandardScaler()\n",
    "    X_train_scaled = scaler.fit_transform(X_train)\n",
    "    X_test_scaled = scaler.transform(X_test)\n",
    "    all_df"
   ]
  },
  {
   "cell_type": "markdown",
   "id": "11626f4f-6792-4c53-b5b1-2783f4c8b1eb",
   "metadata": {},
   "source": [
    "## モデル作成"
   ]
  },
  {
   "cell_type": "code",
   "execution_count": null,
   "id": "c293299a-f8e0-4f3a-a606-e74c0cf57e9c",
   "metadata": {},
   "outputs": [],
   "source": []
  }
 ],
 "metadata": {
  "kernelspec": {
   "display_name": "Python 3 (ipykernel)",
   "language": "python",
   "name": "python3"
  },
  "language_info": {
   "codemirror_mode": {
    "name": "ipython",
    "version": 3
   },
   "file_extension": ".py",
   "mimetype": "text/x-python",
   "name": "python",
   "nbconvert_exporter": "python",
   "pygments_lexer": "ipython3",
   "version": "3.9.7"
  }
 },
 "nbformat": 4,
 "nbformat_minor": 5
}
