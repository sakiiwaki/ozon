{
 "cells": [
  {
   "cell_type": "code",
   "execution_count": 30,
   "id": "b9c8c7fa-0642-4a3c-a15d-9e025bacd333",
   "metadata": {},
   "outputs": [
    {
     "name": "stdout",
     "output_type": "stream",
     "text": [
      "../data/sample_submit.csv\n",
      "../data/test.tsv\n",
      "../data/train.tsv\n",
      "../data/.ipynb_checkpoints\\sample_submit-checkpoint.csv\n",
      "../data/.ipynb_checkpoints\\test-checkpoint.tsv\n",
      "../data/.ipynb_checkpoints\\train-checkpoint.tsv\n"
     ]
    }
   ],
   "source": [
    "import numpy as np\n",
    "import pandas as pd\n",
    "import matplotlib.pyplot as plt\n",
    "import statsmodels.api as sm\n",
    "\n",
    "import os\n",
    "for dirname, _, filenames in os.walk('../data/'):\n",
    "    for filename in filenames:\n",
    "        print(os.path.join(dirname, filename))"
   ]
  },
  {
   "cell_type": "code",
   "execution_count": 68,
   "id": "8cad9f13-a223-442f-a846-25186d87deda",
   "metadata": {},
   "outputs": [],
   "source": [
    "train_df = pd.read_table('../data/train.tsv', index_col='Date', parse_dates=True)\n",
    "test_df = pd.read_table('../data/test.tsv', index_col='Date', parse_dates=True)\n",
    "sample_sub = pd.read_csv('../data/sample_submit.csv')\n",
    "\n",
    "# all data\n",
    "all_df = pd.concat([train_df, test_df], axis=0)\n",
    "# set Test_Flag\n",
    "all_df['Test_Flag'] = 0\n",
    "all_df.loc[train_df.shape[0]: , 'Test_Flag'] = 1"
   ]
  },
  {
   "cell_type": "markdown",
   "id": "8bb61a78-fd39-4d98-b924-a1cc4a8ddb22",
   "metadata": {},
   "source": [
    "## 特徴量の確認"
   ]
  },
  {
   "cell_type": "code",
   "execution_count": 73,
   "id": "eaa415b5-9cb8-45f5-926b-861c5bb8cbd2",
   "metadata": {},
   "outputs": [
    {
     "name": "stdout",
     "output_type": "stream",
     "text": [
      "['id' 'WSR0' 'WSR1' 'WSR2' 'WSR3' 'WSR4' 'WSR5' 'WSR6' 'WSR7' 'WSR8'\n",
      " 'WSR9' 'WSR10' 'WSR11' 'WSR12' 'WSR13' 'WSR14' 'WSR15' 'WSR16' 'WSR17'\n",
      " 'WSR18' 'WSR19' 'WSR20' 'WSR21' 'WSR22' 'WSR23' 'WSR_PK' 'WSR_AV' 'T0'\n",
      " 'T1' 'T2' 'T3' 'T4' 'T5' 'T6' 'T7' 'T8' 'T9' 'T10' 'T11' 'T12' 'T13'\n",
      " 'T14' 'T15' 'T16' 'T17' 'T18' 'T19' 'T20' 'T21' 'T22' 'T23' 'T_PK' 'T_AV'\n",
      " 'T85' 'RH85' 'U85' 'V85' 'HT85' 'T70' 'RH70' 'U70' 'V70' 'HT70' 'T50'\n",
      " 'RH50' 'U50' 'V50' 'HT50' 'KI' 'TT' 'SLP' 'SLP_' 'Precp' 'OZONE']\n"
     ]
    }
   ],
   "source": [
    "print(train_df.columns.values)"
   ]
  },
  {
   "cell_type": "code",
   "execution_count": 72,
   "id": "01cd9d4e-9b4d-4d90-bf2f-02da765deed4",
   "metadata": {},
   "outputs": [
    {
     "name": "stdout",
     "output_type": "stream",
     "text": [
      "            id  WSR0  WSR1  WSR2  WSR3  WSR4  WSR5  WSR6  WSR7  WSR8  ...  \\\n",
      "Date                                                                  ...   \n",
      "1998-01-01   0   0.8   1.8   2.4   2.1   2.0   2.1   1.5   1.7   1.9  ...   \n",
      "1998-01-02   1   2.8   3.2   3.3   2.7   3.3   3.2   2.9   2.8   3.1  ...   \n",
      "1998-01-03   2   2.9   2.8   2.6   2.1   2.2   2.5   2.5   2.7   2.2  ...   \n",
      "1998-01-04   3   4.7   3.8   3.7   3.8   2.9   3.1   2.8   2.5   2.4  ...   \n",
      "1998-01-05   4   2.6   2.1   1.6   1.4   0.9   1.5   1.2   1.4   1.3  ...   \n",
      "\n",
      "            RH50    U50    V50    HT50     KI    TT      SLP  SLP_  Precp  \\\n",
      "Date                                                                        \n",
      "1998-01-01  0.15  10.67  -1.56  5795.0 -12.10  17.9  10330.0 -55.0   0.00   \n",
      "1998-01-02  0.48   8.39   3.84  5805.0  14.05  29.0  10275.0 -55.0   0.00   \n",
      "1998-01-03  0.60   6.94   9.80  5790.0  17.90  41.3  10235.0 -40.0   0.00   \n",
      "1998-01-04  0.49   8.73  10.54  5775.0  31.15  51.7  10195.0 -40.0   2.08   \n",
      "1998-01-05   NaN    NaN    NaN     NaN    NaN   NaN      NaN   NaN   0.58   \n",
      "\n",
      "            OZONE  \n",
      "Date               \n",
      "1998-01-01      0  \n",
      "1998-01-02      0  \n",
      "1998-01-03      0  \n",
      "1998-01-04      0  \n",
      "1998-01-05      0  \n",
      "\n",
      "[5 rows x 74 columns]\n",
      "              id  WSR0  WSR1  WSR2  WSR3  WSR4  WSR5  WSR6  WSR7  WSR8  ...  \\\n",
      "Date                                                                    ...   \n",
      "2001-07-04  1267   0.5   0.1   0.5   1.3   1.2   0.9   1.0   0.8   0.7  ...   \n",
      "2001-07-05  1268   0.5   0.3   0.6   0.3   0.4   0.4   0.8   2.4   3.4  ...   \n",
      "\n",
      "            T50  RH50   U50   V50    HT50    KI     TT      SLP  SLP_  Precp  \n",
      "Date                                                                          \n",
      "2001-07-04 -8.3  0.75  4.63  3.24  5915.0  34.1  46.45  10200.0  10.0   0.08  \n",
      "2001-07-05 -8.5  0.82  2.33 -3.81  5915.0  33.7  48.20  10180.0 -20.0   0.00  \n",
      "\n",
      "[2 rows x 73 columns]\n"
     ]
    }
   ],
   "source": [
    "print(train_df.head(5))\n",
    "print(test_df.head(2))"
   ]
  },
  {
   "cell_type": "code",
   "execution_count": 39,
   "id": "a0307f1f-a470-426f-b2b8-e83cc1857db6",
   "metadata": {},
   "outputs": [
    {
     "data": {
      "image/png": "[encoded data removed]",
      "text/plain": [
       "<Figure size 432x288 with 1 Axes>"
      ]
     },
     "metadata": {
      "needs_background": "light"
     },
     "output_type": "display_data"
    }
   ],
   "source": [
    "plt.title(\"OZONE\")\n",
    "# グラフのx軸とy軸の名前設定\n",
    "plt.xlabel(\"Date\")\n",
    "plt.ylabel(\"OZONE\")\n",
    "# データのプロット\n",
    "plt.plot(train_df)\n",
    "plt.show()"
   ]
  },
  {
   "cell_type": "code",
   "execution_count": 66,
   "id": "d92a336c-e9a2-4c33-a292-8d45bdcd7cc7",
   "metadata": {},
   "outputs": [
    {
     "name": "stdout",
     "output_type": "stream",
     "text": [
      "<class 'pandas.core.frame.DataFrame'>\n",
      "DatetimeIndex: 1267 entries, 1998-01-01 to 2001-07-03\n",
      "Data columns (total 74 columns):\n",
      " #   Column  Non-Null Count  Dtype  \n",
      "---  ------  --------------  -----  \n",
      " 0   id      1267 non-null   int64  \n",
      " 1   WSR0    1240 non-null   float64\n",
      " 2   WSR1    1240 non-null   float64\n",
      " 3   WSR2    1239 non-null   float64\n",
      " 4   WSR3    1240 non-null   float64\n",
      " 5   WSR4    1240 non-null   float64\n",
      " 6   WSR5    1240 non-null   float64\n",
      " 7   WSR6    1241 non-null   float64\n",
      " 8   WSR7    1244 non-null   float64\n",
      " 9   WSR8    1243 non-null   float64\n",
      " 10  WSR9    1241 non-null   float64\n",
      " 11  WSR10   1241 non-null   float64\n",
      " 12  WSR11   1242 non-null   float64\n",
      " 13  WSR12   1243 non-null   float64\n",
      " 14  WSR13   1241 non-null   float64\n",
      " 15  WSR14   1241 non-null   float64\n",
      " 16  WSR15   1243 non-null   float64\n",
      " 17  WSR16   1243 non-null   float64\n",
      " 18  WSR17   1244 non-null   float64\n",
      " 19  WSR18   1243 non-null   float64\n",
      " 20  WSR19   1240 non-null   float64\n",
      " 21  WSR20   1240 non-null   float64\n",
      " 22  WSR21   1240 non-null   float64\n",
      " 23  WSR22   1240 non-null   float64\n",
      " 24  WSR23   1240 non-null   float64\n",
      " 25  WSR_PK  1247 non-null   float64\n",
      " 26  WSR_AV  1247 non-null   float64\n",
      " 27  T0      1262 non-null   float64\n",
      " 28  T1      1262 non-null   float64\n",
      " 29  T2      1261 non-null   float64\n",
      " 30  T3      1262 non-null   float64\n",
      " 31  T4      1262 non-null   float64\n",
      " 32  T5      1262 non-null   float64\n",
      " 33  T6      1261 non-null   float64\n",
      " 34  T7      1263 non-null   float64\n",
      " 35  T8      1263 non-null   float64\n",
      " 36  T9      1261 non-null   float64\n",
      " 37  T10     1261 non-null   float64\n",
      " 38  T11     1262 non-null   float64\n",
      " 39  T12     1262 non-null   float64\n",
      " 40  T13     1259 non-null   float64\n",
      " 41  T14     1259 non-null   float64\n",
      " 42  T15     1262 non-null   float64\n",
      " 43  T16     1262 non-null   float64\n",
      " 44  T17     1264 non-null   float64\n",
      " 45  T18     1263 non-null   float64\n",
      " 46  T19     1262 non-null   float64\n",
      " 47  T20     1261 non-null   float64\n",
      " 48  T21     1262 non-null   float64\n",
      " 49  T22     1261 non-null   float64\n",
      " 50  T23     1261 non-null   float64\n",
      " 51  T_PK    1267 non-null   float64\n",
      " 52  T_AV    1267 non-null   float64\n",
      " 53  T85     1203 non-null   float64\n",
      " 54  RH85    1203 non-null   float64\n",
      " 55  U85     1173 non-null   float64\n",
      " 56  V85     1173 non-null   float64\n",
      " 57  HT85    1205 non-null   float64\n",
      " 58  T70     1197 non-null   float64\n",
      " 59  RH70    1196 non-null   float64\n",
      " 60  U70     1180 non-null   float64\n",
      " 61  V70     1180 non-null   float64\n",
      " 62  HT70    1200 non-null   float64\n",
      " 63  T50     1192 non-null   float64\n",
      " 64  RH50    1191 non-null   float64\n",
      " 65  U50     1154 non-null   float64\n",
      " 66  V50     1154 non-null   float64\n",
      " 67  HT50    1192 non-null   float64\n",
      " 68  KI      1186 non-null   float64\n",
      " 69  TT      1190 non-null   float64\n",
      " 70  SLP     1205 non-null   float64\n",
      " 71  SLP_    1159 non-null   float64\n",
      " 72  Precp   1267 non-null   float64\n",
      " 73  OZONE   1267 non-null   int64  \n",
      "dtypes: float64(72), int64(2)\n",
      "memory usage: 774.7 KB\n"
     ]
    },
    {
     "data": {
      "text/plain": [
       "0"
      ]
     },
     "execution_count": 66,
     "metadata": {},
     "output_type": "execute_result"
    }
   ],
   "source": [
    "# データの型と欠損値の有無を確認\n",
    "train_df.info()\n",
    "# 重複の確認\n",
    "train_df.duplicated().sum()"
   ]
  },
  {
   "cell_type": "code",
   "execution_count": 58,
   "id": "ed69a599-9de6-4a33-9eca-b686287d0a12",
   "metadata": {},
   "outputs": [
    {
     "data": {
      "text/html": [
       "<div>\n",
       "<style scoped>\n",
       "    .dataframe tbody tr th:only-of-type {\n",
       "        vertical-align: middle;\n",
       "    }\n",
       "\n",
       "    .dataframe tbody tr th {\n",
       "        vertical-align: top;\n",
       "    }\n",
       "\n",
       "    .dataframe thead th {\n",
       "        text-align: right;\n",
       "    }\n",
       "</style>\n",
       "<table border=\"1\" class=\"dataframe\">\n",
       "  <thead>\n",
       "    <tr style=\"text-align: right;\">\n",
       "      <th></th>\n",
       "      <th>id</th>\n",
       "      <th>WSR0</th>\n",
       "      <th>WSR1</th>\n",
       "      <th>WSR2</th>\n",
       "      <th>WSR3</th>\n",
       "      <th>WSR4</th>\n",
       "      <th>WSR5</th>\n",
       "      <th>WSR6</th>\n",
       "      <th>WSR7</th>\n",
       "      <th>WSR8</th>\n",
       "      <th>...</th>\n",
       "      <th>RH50</th>\n",
       "      <th>U50</th>\n",
       "      <th>V50</th>\n",
       "      <th>HT50</th>\n",
       "      <th>KI</th>\n",
       "      <th>TT</th>\n",
       "      <th>SLP</th>\n",
       "      <th>SLP_</th>\n",
       "      <th>Precp</th>\n",
       "      <th>OZONE</th>\n",
       "    </tr>\n",
       "  </thead>\n",
       "  <tbody>\n",
       "    <tr>\n",
       "      <th>count</th>\n",
       "      <td>1267.000000</td>\n",
       "      <td>1240.000000</td>\n",
       "      <td>1240.000000</td>\n",
       "      <td>1239.000000</td>\n",
       "      <td>1240.000000</td>\n",
       "      <td>1240.000000</td>\n",
       "      <td>1240.000000</td>\n",
       "      <td>1241.000000</td>\n",
       "      <td>1244.000000</td>\n",
       "      <td>1243.000000</td>\n",
       "      <td>...</td>\n",
       "      <td>1191.000000</td>\n",
       "      <td>1154.000000</td>\n",
       "      <td>1154.000000</td>\n",
       "      <td>1192.00000</td>\n",
       "      <td>1186.000000</td>\n",
       "      <td>1190.000000</td>\n",
       "      <td>1205.000000</td>\n",
       "      <td>1159.000000</td>\n",
       "      <td>1267.000000</td>\n",
       "      <td>1267.000000</td>\n",
       "    </tr>\n",
       "    <tr>\n",
       "      <th>mean</th>\n",
       "      <td>633.000000</td>\n",
       "      <td>1.757984</td>\n",
       "      <td>1.703387</td>\n",
       "      <td>1.656255</td>\n",
       "      <td>1.628710</td>\n",
       "      <td>1.622097</td>\n",
       "      <td>1.636371</td>\n",
       "      <td>1.728364</td>\n",
       "      <td>2.110852</td>\n",
       "      <td>2.609654</td>\n",
       "      <td>...</td>\n",
       "      <td>0.281562</td>\n",
       "      <td>10.141031</td>\n",
       "      <td>0.456265</td>\n",
       "      <td>5815.91443</td>\n",
       "      <td>9.262858</td>\n",
       "      <td>37.227059</td>\n",
       "      <td>10164.373444</td>\n",
       "      <td>-0.431406</td>\n",
       "      <td>0.337293</td>\n",
       "      <td>0.087609</td>\n",
       "    </tr>\n",
       "    <tr>\n",
       "      <th>std</th>\n",
       "      <td>365.895705</td>\n",
       "      <td>1.335908</td>\n",
       "      <td>1.341402</td>\n",
       "      <td>1.304048</td>\n",
       "      <td>1.268962</td>\n",
       "      <td>1.255488</td>\n",
       "      <td>1.225321</td>\n",
       "      <td>1.217825</td>\n",
       "      <td>1.200062</td>\n",
       "      <td>1.225160</td>\n",
       "      <td>...</td>\n",
       "      <td>0.238205</td>\n",
       "      <td>9.920112</td>\n",
       "      <td>7.591077</td>\n",
       "      <td>81.80301</td>\n",
       "      <td>20.409650</td>\n",
       "      <td>11.168332</td>\n",
       "      <td>53.051031</td>\n",
       "      <td>35.247512</td>\n",
       "      <td>1.287986</td>\n",
       "      <td>0.282836</td>\n",
       "    </tr>\n",
       "    <tr>\n",
       "      <th>min</th>\n",
       "      <td>0.000000</td>\n",
       "      <td>0.000000</td>\n",
       "      <td>0.000000</td>\n",
       "      <td>0.000000</td>\n",
       "      <td>0.000000</td>\n",
       "      <td>0.000000</td>\n",
       "      <td>0.000000</td>\n",
       "      <td>0.000000</td>\n",
       "      <td>0.000000</td>\n",
       "      <td>0.100000</td>\n",
       "      <td>...</td>\n",
       "      <td>0.010000</td>\n",
       "      <td>-14.920000</td>\n",
       "      <td>-22.990000</td>\n",
       "      <td>5480.00000</td>\n",
       "      <td>-53.600000</td>\n",
       "      <td>-10.100000</td>\n",
       "      <td>9995.000000</td>\n",
       "      <td>-135.000000</td>\n",
       "      <td>0.000000</td>\n",
       "      <td>0.000000</td>\n",
       "    </tr>\n",
       "    <tr>\n",
       "      <th>25%</th>\n",
       "      <td>316.500000</td>\n",
       "      <td>0.700000</td>\n",
       "      <td>0.600000</td>\n",
       "      <td>0.600000</td>\n",
       "      <td>0.600000</td>\n",
       "      <td>0.600000</td>\n",
       "      <td>0.700000</td>\n",
       "      <td>0.800000</td>\n",
       "      <td>1.200000</td>\n",
       "      <td>1.700000</td>\n",
       "      <td>...</td>\n",
       "      <td>0.085000</td>\n",
       "      <td>2.302500</td>\n",
       "      <td>-4.007500</td>\n",
       "      <td>5770.00000</td>\n",
       "      <td>-4.337500</td>\n",
       "      <td>32.000000</td>\n",
       "      <td>10130.000000</td>\n",
       "      <td>-20.000000</td>\n",
       "      <td>0.000000</td>\n",
       "      <td>0.000000</td>\n",
       "    </tr>\n",
       "    <tr>\n",
       "      <th>50%</th>\n",
       "      <td>633.000000</td>\n",
       "      <td>1.400000</td>\n",
       "      <td>1.400000</td>\n",
       "      <td>1.300000</td>\n",
       "      <td>1.300000</td>\n",
       "      <td>1.300000</td>\n",
       "      <td>1.400000</td>\n",
       "      <td>1.500000</td>\n",
       "      <td>1.900000</td>\n",
       "      <td>2.500000</td>\n",
       "      <td>...</td>\n",
       "      <td>0.210000</td>\n",
       "      <td>9.445000</td>\n",
       "      <td>-0.130000</td>\n",
       "      <td>5830.00000</td>\n",
       "      <td>13.350000</td>\n",
       "      <td>40.650000</td>\n",
       "      <td>10160.000000</td>\n",
       "      <td>0.000000</td>\n",
       "      <td>0.000000</td>\n",
       "      <td>0.000000</td>\n",
       "    </tr>\n",
       "    <tr>\n",
       "      <th>75%</th>\n",
       "      <td>949.500000</td>\n",
       "      <td>2.600000</td>\n",
       "      <td>2.500000</td>\n",
       "      <td>2.400000</td>\n",
       "      <td>2.300000</td>\n",
       "      <td>2.400000</td>\n",
       "      <td>2.300000</td>\n",
       "      <td>2.400000</td>\n",
       "      <td>2.900000</td>\n",
       "      <td>3.400000</td>\n",
       "      <td>...</td>\n",
       "      <td>0.440000</td>\n",
       "      <td>17.580000</td>\n",
       "      <td>4.515000</td>\n",
       "      <td>5880.00000</td>\n",
       "      <td>26.200000</td>\n",
       "      <td>44.900000</td>\n",
       "      <td>10190.000000</td>\n",
       "      <td>15.000000</td>\n",
       "      <td>0.030000</td>\n",
       "      <td>0.000000</td>\n",
       "    </tr>\n",
       "    <tr>\n",
       "      <th>max</th>\n",
       "      <td>1266.000000</td>\n",
       "      <td>7.500000</td>\n",
       "      <td>7.700000</td>\n",
       "      <td>7.100000</td>\n",
       "      <td>7.300000</td>\n",
       "      <td>7.200000</td>\n",
       "      <td>7.400000</td>\n",
       "      <td>7.400000</td>\n",
       "      <td>7.500000</td>\n",
       "      <td>9.200000</td>\n",
       "      <td>...</td>\n",
       "      <td>0.980000</td>\n",
       "      <td>41.360000</td>\n",
       "      <td>30.420000</td>\n",
       "      <td>5965.00000</td>\n",
       "      <td>42.050000</td>\n",
       "      <td>56.850000</td>\n",
       "      <td>10350.000000</td>\n",
       "      <td>140.000000</td>\n",
       "      <td>20.650000</td>\n",
       "      <td>1.000000</td>\n",
       "    </tr>\n",
       "  </tbody>\n",
       "</table>\n",
       "<p>8 rows × 74 columns</p>\n",
       "</div>"
      ],
      "text/plain": [
       "                id         WSR0         WSR1         WSR2         WSR3  \\\n",
       "count  1267.000000  1240.000000  1240.000000  1239.000000  1240.000000   \n",
       "mean    633.000000     1.757984     1.703387     1.656255     1.628710   \n",
       "std     365.895705     1.335908     1.341402     1.304048     1.268962   \n",
       "min       0.000000     0.000000     0.000000     0.000000     0.000000   \n",
       "25%     316.500000     0.700000     0.600000     0.600000     0.600000   \n",
       "50%     633.000000     1.400000     1.400000     1.300000     1.300000   \n",
       "75%     949.500000     2.600000     2.500000     2.400000     2.300000   \n",
       "max    1266.000000     7.500000     7.700000     7.100000     7.300000   \n",
       "\n",
       "              WSR4         WSR5         WSR6         WSR7         WSR8  ...  \\\n",
       "count  1240.000000  1240.000000  1241.000000  1244.000000  1243.000000  ...   \n",
       "mean      1.622097     1.636371     1.728364     2.110852     2.609654  ...   \n",
       "std       1.255488     1.225321     1.217825     1.200062     1.225160  ...   \n",
       "min       0.000000     0.000000     0.000000     0.000000     0.100000  ...   \n",
       "25%       0.600000     0.700000     0.800000     1.200000     1.700000  ...   \n",
       "50%       1.300000     1.400000     1.500000     1.900000     2.500000  ...   \n",
       "75%       2.400000     2.300000     2.400000     2.900000     3.400000  ...   \n",
       "max       7.200000     7.400000     7.400000     7.500000     9.200000  ...   \n",
       "\n",
       "              RH50          U50          V50        HT50           KI  \\\n",
       "count  1191.000000  1154.000000  1154.000000  1192.00000  1186.000000   \n",
       "mean      0.281562    10.141031     0.456265  5815.91443     9.262858   \n",
       "std       0.238205     9.920112     7.591077    81.80301    20.409650   \n",
       "min       0.010000   -14.920000   -22.990000  5480.00000   -53.600000   \n",
       "25%       0.085000     2.302500    -4.007500  5770.00000    -4.337500   \n",
       "50%       0.210000     9.445000    -0.130000  5830.00000    13.350000   \n",
       "75%       0.440000    17.580000     4.515000  5880.00000    26.200000   \n",
       "max       0.980000    41.360000    30.420000  5965.00000    42.050000   \n",
       "\n",
       "                TT           SLP         SLP_        Precp        OZONE  \n",
       "count  1190.000000   1205.000000  1159.000000  1267.000000  1267.000000  \n",
       "mean     37.227059  10164.373444    -0.431406     0.337293     0.087609  \n",
       "std      11.168332     53.051031    35.247512     1.287986     0.282836  \n",
       "min     -10.100000   9995.000000  -135.000000     0.000000     0.000000  \n",
       "25%      32.000000  10130.000000   -20.000000     0.000000     0.000000  \n",
       "50%      40.650000  10160.000000     0.000000     0.000000     0.000000  \n",
       "75%      44.900000  10190.000000    15.000000     0.030000     0.000000  \n",
       "max      56.850000  10350.000000   140.000000    20.650000     1.000000  \n",
       "\n",
       "[8 rows x 74 columns]"
      ]
     },
     "execution_count": 58,
     "metadata": {},
     "output_type": "execute_result"
    }
   ],
   "source": [
    "# 数値データの基本統計量\n",
    "train_df.describe()\n",
    "# カテゴリカルデータの基本統計量（今回はない）\n",
    "# train_df.describe(include='O')\n",
    "# 上記二つの基本統計量\n",
    "# train_df.describe(include='all')"
   ]
  },
  {
   "cell_type": "markdown",
   "id": "840a3185-d563-4f27-9796-ab344db871c3",
   "metadata": {},
   "source": [
    "## 特徴量の可視化"
   ]
  },
  {
   "cell_type": "code",
   "execution_count": 77,
   "id": "d8b3e619-f7c0-45df-a87f-0bc44cba9ab4",
   "metadata": {},
   "outputs": [
    {
     "data": {
      "text/plain": [
       "<AxesSubplot:xlabel='OZONE', ylabel='count'>"
      ]
     },
     "execution_count": 77,
     "metadata": {},
     "output_type": "execute_result"
    },
    {
     "data": {
      "image/png": "[encoded data removed]",
      "text/plain": [
       "<Figure size 432x288 with 1 Axes>"
      ]
     },
     "metadata": {
      "needs_background": "light"
     },
     "output_type": "display_data"
    }
   ],
   "source": [
    "import seaborn as sns\n",
    "\n",
    "sns.countplot(x='OZONE', data=train_df) "
   ]
  },
  {
   "cell_type": "code",
   "execution_count": 93,
   "id": "90b1e4a8-b8c2-421b-b14c-7a09a2b77d41",
   "metadata": {},
   "outputs": [
    {
     "data": {
      "text/plain": [
       "<seaborn.axisgrid.FacetGrid at 0x2c247a23820>"
      ]
     },
     "execution_count": 93,
     "metadata": {},
     "output_type": "execute_result"
    },
    {
     "data": {
      "image/png": "[encoded data removed]",
      "text/plain": [
       "<Figure size 720x360 with 2 Axes>"
      ]
     },
     "metadata": {
      "needs_background": "light"
     },
     "output_type": "display_data"
    }
   ],
   "source": [
    "# 最高気温について可視化\n",
    "fig = sns.FacetGrid(all_df, col='Test_Flag', hue='Test_Flag', height=5)\n",
    "fig.map(sns.histplot, 'T_PK', bins=30, kde=False)"
   ]
  },
  {
   "cell_type": "code",
   "execution_count": 95,
   "id": "0c721063-be09-4cd3-bb0b-555d0da6cf84",
   "metadata": {},
   "outputs": [
    {
     "data": {
      "text/plain": [
       "<seaborn.axisgrid.FacetGrid at 0x2c24a38faf0>"
      ]
     },
     "execution_count": 95,
     "metadata": {},
     "output_type": "execute_result"
    },
    {
     "data": {
      "image/png": "[encoded data removed]",
      "text/plain": [
       "<Figure size 720x360 with 2 Axes>"
      ]
     },
     "metadata": {
      "needs_background": "light"
     },
     "output_type": "display_data"
    }
   ],
   "source": [
    "# 最高気温について可視化\n",
    "fig = sns.FacetGrid(train_df, col='OZONE', hue='OZONE', height=5)\n",
    "fig.map(sns.histplot, 'T_PK', bins=30, kde=False)"
   ]
  },
  {
   "cell_type": "code",
   "execution_count": 96,
   "id": "4ddfc928-9ae9-4bb0-8dfc-7a055df15d11",
   "metadata": {},
   "outputs": [
    {
     "data": {
      "text/plain": [
       "<seaborn.axisgrid.FacetGrid at 0x2c249309400>"
      ]
     },
     "execution_count": 96,
     "metadata": {},
     "output_type": "execute_result"
    },
    {
     "data": {
      "image/png": "[encoded data removed]",
      "text/plain": [
       "<Figure size 720x360 with 2 Axes>"
      ]
     },
     "metadata": {
      "needs_background": "light"
     },
     "output_type": "display_data"
    }
   ],
   "source": [
    "# 平均気温について可視化\n",
    "fig = sns.FacetGrid(train_df, col='OZONE', hue='OZONE', height=5)\n",
    "fig.map(sns.histplot, 'T_AV', bins=30, kde=False)"
   ]
  },
  {
   "cell_type": "code",
   "execution_count": 97,
   "id": "daf1756e-159e-4eca-becc-43bb914528a1",
   "metadata": {},
   "outputs": [
    {
     "data": {
      "text/plain": [
       "<seaborn.axisgrid.FacetGrid at 0x2c24c282f40>"
      ]
     },
     "execution_count": 97,
     "metadata": {},
     "output_type": "execute_result"
    },
    {
     "data": {
      "image/png": "[encoded data removed]",
      "text/plain": [
       "<Figure size 720x360 with 2 Axes>"
      ]
     },
     "metadata": {
      "needs_background": "light"
     },
     "output_type": "display_data"
    }
   ],
   "source": [
    "# 海面気圧について可視化\n",
    "fig = sns.FacetGrid(train_df, col='OZONE', hue='OZONE', height=5)\n",
    "fig.map(sns.histplot, 'SLP', bins=30, kde=False)"
   ]
  },
  {
   "cell_type": "code",
   "execution_count": 94,
   "id": "93ac6cea-6ff4-475c-a9b4-7bd81dbdcfc7",
   "metadata": {},
   "outputs": [
    {
     "data": {
      "text/plain": [
       "<seaborn.axisgrid.FacetGrid at 0x2c249267e80>"
      ]
     },
     "execution_count": 94,
     "metadata": {},
     "output_type": "execute_result"
    },
    {
     "data": {
      "image/png": "[encoded data removed]",
      "text/plain": [
       "<Figure size 720x360 with 2 Axes>"
      ]
     },
     "metadata": {
      "needs_background": "light"
     },
     "output_type": "display_data"
    }
   ],
   "source": [
    "# 降水量について可視化\n",
    "fig = sns.FacetGrid(train_df, col='OZONE', hue='OZONE', height=5)\n",
    "fig.map(sns.histplot, 'Precp', bins=30, kde=False)"
   ]
  },
  {
   "cell_type": "code",
   "execution_count": null,
   "id": "02f95c55-fad7-4462-b464-d072ac019c1d",
   "metadata": {},
   "outputs": [],
   "source": []
  }
 ],
 "metadata": {
  "kernelspec": {
   "display_name": "Python 3 (ipykernel)",
   "language": "python",
   "name": "python3"
  },
  "language_info": {
   "codemirror_mode": {
    "name": "ipython",
    "version": 3
   },
   "file_extension": ".py",
   "mimetype": "text/x-python",
   "name": "python",
   "nbconvert_exporter": "python",
   "pygments_lexer": "ipython3",
   "version": "3.9.7"
  }
 },
 "nbformat": 4,
 "nbformat_minor": 5
}
